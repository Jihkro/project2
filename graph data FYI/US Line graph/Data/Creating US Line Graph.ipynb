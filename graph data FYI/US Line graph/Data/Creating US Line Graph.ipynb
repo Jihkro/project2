{
 "cells": [
  {
   "cell_type": "code",
   "execution_count": 96,
   "metadata": {},
   "outputs": [],
   "source": [
    "import pandas as pd"
   ]
  },
  {
   "cell_type": "code",
   "execution_count": 97,
   "metadata": {
    "scrolled": true
   },
   "outputs": [
    {
     "data": {
      "text/html": [
       "<div>\n",
       "<style scoped>\n",
       "    .dataframe tbody tr th:only-of-type {\n",
       "        vertical-align: middle;\n",
       "    }\n",
       "\n",
       "    .dataframe tbody tr th {\n",
       "        vertical-align: top;\n",
       "    }\n",
       "\n",
       "    .dataframe thead th {\n",
       "        text-align: right;\n",
       "    }\n",
       "</style>\n",
       "<table border=\"1\" class=\"dataframe\">\n",
       "  <thead>\n",
       "    <tr style=\"text-align: right;\">\n",
       "      <th></th>\n",
       "      <th>Disaster Type</th>\n",
       "      <th>Disaster Number</th>\n",
       "      <th>Incident Type</th>\n",
       "      <th>Title</th>\n",
       "      <th>Year</th>\n",
       "      <th>State</th>\n",
       "      <th>Declared County/Area</th>\n",
       "      <th>FIPS Code</th>\n",
       "    </tr>\n",
       "  </thead>\n",
       "  <tbody>\n",
       "    <tr>\n",
       "      <th>0</th>\n",
       "      <td>DR</td>\n",
       "      <td>4411</td>\n",
       "      <td>Hurricane</td>\n",
       "      <td>TROPICAL STORM MICHAEL</td>\n",
       "      <td>2018</td>\n",
       "      <td>VA</td>\n",
       "      <td>Amelia (County)</td>\n",
       "      <td>51007</td>\n",
       "    </tr>\n",
       "    <tr>\n",
       "      <th>1</th>\n",
       "      <td>DR</td>\n",
       "      <td>4411</td>\n",
       "      <td>Hurricane</td>\n",
       "      <td>TROPICAL STORM MICHAEL</td>\n",
       "      <td>2018</td>\n",
       "      <td>VA</td>\n",
       "      <td>Appomattox (County)</td>\n",
       "      <td>51011</td>\n",
       "    </tr>\n",
       "    <tr>\n",
       "      <th>2</th>\n",
       "      <td>DR</td>\n",
       "      <td>4411</td>\n",
       "      <td>Hurricane</td>\n",
       "      <td>TROPICAL STORM MICHAEL</td>\n",
       "      <td>2018</td>\n",
       "      <td>VA</td>\n",
       "      <td>Brunswick (County)</td>\n",
       "      <td>51025</td>\n",
       "    </tr>\n",
       "    <tr>\n",
       "      <th>3</th>\n",
       "      <td>DR</td>\n",
       "      <td>4411</td>\n",
       "      <td>Hurricane</td>\n",
       "      <td>TROPICAL STORM MICHAEL</td>\n",
       "      <td>2018</td>\n",
       "      <td>VA</td>\n",
       "      <td>Campbell (County)</td>\n",
       "      <td>51031</td>\n",
       "    </tr>\n",
       "    <tr>\n",
       "      <th>4</th>\n",
       "      <td>DR</td>\n",
       "      <td>4411</td>\n",
       "      <td>Hurricane</td>\n",
       "      <td>TROPICAL STORM MICHAEL</td>\n",
       "      <td>2018</td>\n",
       "      <td>VA</td>\n",
       "      <td>Charlotte (County)</td>\n",
       "      <td>51037</td>\n",
       "    </tr>\n",
       "  </tbody>\n",
       "</table>\n",
       "</div>"
      ],
      "text/plain": [
       "  Disaster Type  Disaster Number Incident Type                   Title  Year  \\\n",
       "0            DR             4411     Hurricane  TROPICAL STORM MICHAEL  2018   \n",
       "1            DR             4411     Hurricane  TROPICAL STORM MICHAEL  2018   \n",
       "2            DR             4411     Hurricane  TROPICAL STORM MICHAEL  2018   \n",
       "3            DR             4411     Hurricane  TROPICAL STORM MICHAEL  2018   \n",
       "4            DR             4411     Hurricane  TROPICAL STORM MICHAEL  2018   \n",
       "\n",
       "  State  Declared County/Area  FIPS Code  \n",
       "0     VA      Amelia (County)      51007  \n",
       "1     VA  Appomattox (County)      51011  \n",
       "2     VA   Brunswick (County)      51025  \n",
       "3     VA    Campbell (County)      51031  \n",
       "4     VA   Charlotte (County)      51037  "
      ]
     },
     "execution_count": 97,
     "metadata": {},
     "output_type": "execute_result"
    }
   ],
   "source": [
    "alldata_df = pd.read_csv(\"final_merged.csv\")\n",
    "alldata_df.head()"
   ]
  },
  {
   "cell_type": "code",
   "execution_count": 98,
   "metadata": {},
   "outputs": [],
   "source": [
    "#Only keep one row for each disasters\n",
    "unique_disasters = alldata_df.drop_duplicates('Disaster Number')\n",
    "year_df = unique_disasters.groupby(\"Year\")"
   ]
  },
  {
   "cell_type": "code",
   "execution_count": 99,
   "metadata": {},
   "outputs": [
    {
     "data": {
      "text/html": [
       "<div>\n",
       "<style scoped>\n",
       "    .dataframe tbody tr th:only-of-type {\n",
       "        vertical-align: middle;\n",
       "    }\n",
       "\n",
       "    .dataframe tbody tr th {\n",
       "        vertical-align: top;\n",
       "    }\n",
       "\n",
       "    .dataframe thead th {\n",
       "        text-align: right;\n",
       "    }\n",
       "</style>\n",
       "<table border=\"1\" class=\"dataframe\">\n",
       "  <thead>\n",
       "    <tr style=\"text-align: right;\">\n",
       "      <th></th>\n",
       "      <th>Total ALL Disasters</th>\n",
       "    </tr>\n",
       "    <tr>\n",
       "      <th>Year</th>\n",
       "      <th></th>\n",
       "    </tr>\n",
       "  </thead>\n",
       "  <tbody>\n",
       "    <tr>\n",
       "      <th>1959</th>\n",
       "      <td>1</td>\n",
       "    </tr>\n",
       "    <tr>\n",
       "      <th>1964</th>\n",
       "      <td>4</td>\n",
       "    </tr>\n",
       "    <tr>\n",
       "      <th>1965</th>\n",
       "      <td>25</td>\n",
       "    </tr>\n",
       "    <tr>\n",
       "      <th>1966</th>\n",
       "      <td>10</td>\n",
       "    </tr>\n",
       "    <tr>\n",
       "      <th>1967</th>\n",
       "      <td>9</td>\n",
       "    </tr>\n",
       "  </tbody>\n",
       "</table>\n",
       "</div>"
      ],
      "text/plain": [
       "      Total ALL Disasters\n",
       "Year                     \n",
       "1959                    1\n",
       "1964                    4\n",
       "1965                   25\n",
       "1966                   10\n",
       "1967                    9"
      ]
     },
     "execution_count": 99,
     "metadata": {},
     "output_type": "execute_result"
    }
   ],
   "source": [
    "total_disasters = pd.DataFrame(year_df[\"Disaster Type\"].count())\n",
    "total_disasters = total_disasters.rename(columns={\"Disaster Type\": \"Total ALL Disasters\"})\n",
    "total_disasters.head()"
   ]
  },
  {
   "cell_type": "code",
   "execution_count": 100,
   "metadata": {
    "scrolled": true
   },
   "outputs": [],
   "source": [
    "hurricanes_only = pd.DataFrame(unique_disasters[unique_disasters['Incident Type'] == 'Hurricane'].groupby('Year')['Incident Type'].count())\n",
    "hurricanes_final = hurricanes_only.rename(columns={\"Incident Type\": \"Hurricanes\"})"
   ]
  },
  {
   "cell_type": "code",
   "execution_count": 101,
   "metadata": {},
   "outputs": [],
   "source": [
    "earthquakes_only = pd.DataFrame(unique_disasters[unique_disasters['Incident Type'] == 'Earthquake'].groupby('Year')['Incident Type'].count())\n",
    "earthquakes_final = earthquakes_only.rename(columns={\"Incident Type\": \"Earthquakes\"})"
   ]
  },
  {
   "cell_type": "code",
   "execution_count": 102,
   "metadata": {},
   "outputs": [],
   "source": [
    "floods_only = pd.DataFrame(unique_disasters[unique_disasters['Incident Type'] == 'Flood'].groupby('Year')['Incident Type'].count())\n",
    "floods_final = floods_only.rename(columns={\"Incident Type\": \"Floods\"})"
   ]
  },
  {
   "cell_type": "code",
   "execution_count": 103,
   "metadata": {},
   "outputs": [],
   "source": [
    "tornado_only = pd.DataFrame(unique_disasters[unique_disasters['Incident Type'] == 'Tornado'].groupby('Year')['Incident Type'].count())\n",
    "tornado_final = tornado_only.rename(columns={\"Incident Type\": \"Tornadoes\"})"
   ]
  },
  {
   "cell_type": "code",
   "execution_count": 104,
   "metadata": {},
   "outputs": [],
   "source": [
    "fires_only= pd.DataFrame(unique_disasters[unique_disasters['Incident Type'] == 'Fire'].groupby('Year')['Incident Type'].count())\n",
    "fires_final = fires_only.rename(columns={\"Incident Type\": \"Fires\"})"
   ]
  },
  {
   "cell_type": "code",
   "execution_count": 105,
   "metadata": {
    "scrolled": true
   },
   "outputs": [
    {
     "data": {
      "text/html": [
       "<div>\n",
       "<style scoped>\n",
       "    .dataframe tbody tr th:only-of-type {\n",
       "        vertical-align: middle;\n",
       "    }\n",
       "\n",
       "    .dataframe tbody tr th {\n",
       "        vertical-align: top;\n",
       "    }\n",
       "\n",
       "    .dataframe thead th {\n",
       "        text-align: right;\n",
       "    }\n",
       "</style>\n",
       "<table border=\"1\" class=\"dataframe\">\n",
       "  <thead>\n",
       "    <tr style=\"text-align: right;\">\n",
       "      <th></th>\n",
       "      <th>Hurricanes</th>\n",
       "      <th>Earthquakes</th>\n",
       "      <th>Floods</th>\n",
       "      <th>Tornadoes</th>\n",
       "      <th>Fires</th>\n",
       "      <th>Total ALL Disasters</th>\n",
       "    </tr>\n",
       "    <tr>\n",
       "      <th>Year</th>\n",
       "      <th></th>\n",
       "      <th></th>\n",
       "      <th></th>\n",
       "      <th></th>\n",
       "      <th></th>\n",
       "      <th></th>\n",
       "    </tr>\n",
       "  </thead>\n",
       "  <tbody>\n",
       "    <tr>\n",
       "      <th>1965</th>\n",
       "      <td>3.0</td>\n",
       "      <td>1.0</td>\n",
       "      <td>9.0</td>\n",
       "      <td>7.0</td>\n",
       "      <td>NaN</td>\n",
       "      <td>25</td>\n",
       "    </tr>\n",
       "    <tr>\n",
       "      <th>1967</th>\n",
       "      <td>1.0</td>\n",
       "      <td>NaN</td>\n",
       "      <td>5.0</td>\n",
       "      <td>2.0</td>\n",
       "      <td>1.0</td>\n",
       "      <td>9</td>\n",
       "    </tr>\n",
       "    <tr>\n",
       "      <th>1968</th>\n",
       "      <td>1.0</td>\n",
       "      <td>NaN</td>\n",
       "      <td>10.0</td>\n",
       "      <td>6.0</td>\n",
       "      <td>NaN</td>\n",
       "      <td>18</td>\n",
       "    </tr>\n",
       "    <tr>\n",
       "      <th>1969</th>\n",
       "      <td>5.0</td>\n",
       "      <td>NaN</td>\n",
       "      <td>21.0</td>\n",
       "      <td>2.0</td>\n",
       "      <td>NaN</td>\n",
       "      <td>28</td>\n",
       "    </tr>\n",
       "    <tr>\n",
       "      <th>1970</th>\n",
       "      <td>1.0</td>\n",
       "      <td>NaN</td>\n",
       "      <td>12.0</td>\n",
       "      <td>1.0</td>\n",
       "      <td>1.0</td>\n",
       "      <td>17</td>\n",
       "    </tr>\n",
       "  </tbody>\n",
       "</table>\n",
       "</div>"
      ],
      "text/plain": [
       "      Hurricanes  Earthquakes  Floods  Tornadoes  Fires  Total ALL Disasters\n",
       "Year                                                                        \n",
       "1965         3.0          1.0     9.0        7.0    NaN                   25\n",
       "1967         1.0          NaN     5.0        2.0    1.0                    9\n",
       "1968         1.0          NaN    10.0        6.0    NaN                   18\n",
       "1969         5.0          NaN    21.0        2.0    NaN                   28\n",
       "1970         1.0          NaN    12.0        1.0    1.0                   17"
      ]
     },
     "execution_count": 105,
     "metadata": {},
     "output_type": "execute_result"
    }
   ],
   "source": [
    "#merge all dataframes\n",
    "merge1 = pd.merge(hurricanes_final, earthquakes_final, on=[\"Year\"], how=\"outer\")\n",
    "merge2 =pd.merge(merge1, floods_final, on=[\"Year\"], how=\"outer\")\n",
    "merge3 = pd.merge(merge2, tornado_final, on=[\"Year\"], how=\"outer\")\n",
    "merge4= pd.merge(merge3, fires_final, on=[\"Year\"], how=\"outer\")\n",
    "finalmerge_df = pd.merge(merge4, total_disasters, on=[\"Year\"], how=\"outer\")\n",
    "finalmerge_df.head()"
   ]
  },
  {
   "cell_type": "code",
   "execution_count": 106,
   "metadata": {},
   "outputs": [],
   "source": [
    "#export csv \n",
    "finalmerge_df.to_csv(\"finaldata_byYEAR.csv\")"
   ]
  },
  {
   "cell_type": "code",
   "execution_count": 107,
   "metadata": {},
   "outputs": [
    {
     "data": {
      "text/plain": [
       "'C:\\\\Users\\\\Anum Ali\\\\Desktop\\\\Group Project 2\\\\summary graphs'"
      ]
     },
     "execution_count": 107,
     "metadata": {},
     "output_type": "execute_result"
    }
   ],
   "source": [
    "pwd"
   ]
  },
  {
   "cell_type": "code",
   "execution_count": null,
   "metadata": {},
   "outputs": [],
   "source": []
  }
 ],
 "metadata": {
  "kernelspec": {
   "display_name": "Python [default]",
   "language": "python",
   "name": "python3"
  },
  "language_info": {
   "codemirror_mode": {
    "name": "ipython",
    "version": 3
   },
   "file_extension": ".py",
   "mimetype": "text/x-python",
   "name": "python",
   "nbconvert_exporter": "python",
   "pygments_lexer": "ipython3",
   "version": "3.6.5"
  }
 },
 "nbformat": 4,
 "nbformat_minor": 2
}
